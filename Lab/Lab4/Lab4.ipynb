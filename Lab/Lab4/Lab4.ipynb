{
 "cells": [
  {
   "cell_type": "code",
   "execution_count": 16,
   "metadata": {},
   "outputs": [
    {
     "data": {
      "text/html": [
       "<div>\n",
       "<style scoped>\n",
       "    .dataframe tbody tr th:only-of-type {\n",
       "        vertical-align: middle;\n",
       "    }\n",
       "\n",
       "    .dataframe tbody tr th {\n",
       "        vertical-align: top;\n",
       "    }\n",
       "\n",
       "    .dataframe thead th {\n",
       "        text-align: right;\n",
       "    }\n",
       "</style>\n",
       "<table border=\"1\" class=\"dataframe\">\n",
       "  <thead>\n",
       "    <tr style=\"text-align: right;\">\n",
       "      <th></th>\n",
       "      <th>software</th>\n",
       "    </tr>\n",
       "  </thead>\n",
       "  <tbody>\n",
       "    <tr>\n",
       "      <th>0</th>\n",
       "      <td>Firefox</td>\n",
       "    </tr>\n",
       "    <tr>\n",
       "      <th>1</th>\n",
       "      <td>Firefox</td>\n",
       "    </tr>\n",
       "    <tr>\n",
       "      <th>2</th>\n",
       "      <td>Core</td>\n",
       "    </tr>\n",
       "    <tr>\n",
       "      <th>3</th>\n",
       "      <td>Toolkit</td>\n",
       "    </tr>\n",
       "    <tr>\n",
       "      <th>4</th>\n",
       "      <td>addons.mozilla.o</td>\n",
       "    </tr>\n",
       "  </tbody>\n",
       "</table>\n",
       "</div>"
      ],
      "text/plain": [
       "           software\n",
       "0           Firefox\n",
       "1           Firefox\n",
       "2              Core\n",
       "3           Toolkit\n",
       "4  addons.mozilla.o"
      ]
     },
     "execution_count": 16,
     "metadata": {},
     "output_type": "execute_result"
    }
   ],
   "source": [
    "import pandas as pd\n",
    "import re\n",
    "import nltk\n",
    "import spacy\n",
    "import string\n",
    "pd.options.mode.chained_assignment = None\n",
    "\n",
    "full_df = pd.read_csv(\"./bugtest.csv\", nrows=30)\n",
    "full_df.head()\n",
    "df = full_df[[\"software\"]]\n",
    "df[\"software\"] = df[\"software\"].astype(str)\n",
    "df.head()\n"
   ]
  },
  {
   "cell_type": "code",
   "execution_count": 17,
   "metadata": {},
   "outputs": [
    {
     "data": {
      "text/plain": [
       "0             firefox\n",
       "1             firefox\n",
       "2                core\n",
       "3             toolkit\n",
       "4    addons.mozilla.o\n",
       "Name: lowertext, dtype: object"
      ]
     },
     "execution_count": 17,
     "metadata": {},
     "output_type": "execute_result"
    }
   ],
   "source": [
    "df[\"lowertext\"] = df[\"software\"].str.lower()\n",
    "df[\"lowertext\"].head()"
   ]
  },
  {
   "cell_type": "code",
   "execution_count": 18,
   "metadata": {},
   "outputs": [
    {
     "data": {
      "text/plain": [
       "0           Firefox\n",
       "1           Firefox\n",
       "2              Core\n",
       "3           Toolkit\n",
       "4    addonsmozillao\n",
       "Name: nopuntext, dtype: object"
      ]
     },
     "execution_count": 18,
     "metadata": {},
     "output_type": "execute_result"
    }
   ],
   "source": [
    "PUNCT = string.punctuation\n",
    "def remove_punctuation(text):\n",
    " return text.translate(str.maketrans('', '', PUNCT))\n",
    "df[\"nopuntext\"] = df[\"software\"].apply(lambda text: remove_punctuation(text))\n",
    "df[\"nopuntext\"].head()"
   ]
  },
  {
   "cell_type": "code",
   "execution_count": 19,
   "metadata": {},
   "outputs": [
    {
     "name": "stderr",
     "output_type": "stream",
     "text": [
      "[nltk_data] Downloading package stopwords to\n",
      "[nltk_data]     C:\\Users\\Asus\\AppData\\Roaming\\nltk_data...\n",
      "[nltk_data]   Unzipping corpora\\stopwords.zip.\n"
     ]
    },
    {
     "data": {
      "text/plain": [
       "0           Firefox\n",
       "1           Firefox\n",
       "2              Core\n",
       "3           Toolkit\n",
       "4    addonsmozillao\n",
       "Name: stopwtext, dtype: object"
      ]
     },
     "execution_count": 19,
     "metadata": {},
     "output_type": "execute_result"
    }
   ],
   "source": [
    "import nltk\n",
    "nltk.download('stopwords')\n",
    "from nltk.corpus import stopwords\n",
    "\", \".join(stopwords.words('english'))\n",
    "STOPW = set(stopwords.words('english'))\n",
    "def remove_stopwords(text):\n",
    " return \" \".join([word for word in str(text).split() if word not in STOPW])\n",
    "df[\"stopwtext\"] = df[\"nopuntext\"].apply(lambda text: remove_stopwords(text))\n",
    "df[\"stopwtext\"].head()"
   ]
  },
  {
   "cell_type": "code",
   "execution_count": 29,
   "metadata": {},
   "outputs": [],
   "source": [
    "from collections import Counter\n",
    "cnt = Counter()\n",
    "for text in df[\"stopwtext\"].values:\n",
    "    for word in text.split():\n",
    "        cnt[word] += 1\n",
    "        cnt.most_common(10)\n",
    "        FREQWS = set([w for (w, wc) in cnt.most_common(10)])\n",
    "def remove_freqwords(text):\n",
    "    return \" \".join([word for word in str(text).split() if word not in FREQWS])\n"
   ]
  },
  {
   "cell_type": "code",
   "execution_count": 33,
   "metadata": {},
   "outputs": [
    {
     "data": {
      "text/plain": [
       "0           Firefox\n",
       "1           Firefox\n",
       "2              Core\n",
       "3           Toolkit\n",
       "4    addonsmozillao\n",
       "Name: stopfretext, dtype: object"
      ]
     },
     "execution_count": 33,
     "metadata": {},
     "output_type": "execute_result"
    }
   ],
   "source": [
    "df[\"stopfretext\"] = df[\"nopuntext\"].apply(lambda text: remove_freqwords(text))\n",
    "df[\"stopfretext\"].head()"
   ]
  },
  {
   "cell_type": "code",
   "execution_count": 34,
   "metadata": {},
   "outputs": [
    {
     "data": {
      "text/plain": [
       "0           firefox\n",
       "1           firefox\n",
       "2              core\n",
       "3           toolkit\n",
       "4    addonsmozillao\n",
       "Name: stemtext, dtype: object"
      ]
     },
     "execution_count": 34,
     "metadata": {},
     "output_type": "execute_result"
    }
   ],
   "source": [
    "from nltk.stem.porter import PorterStemmer\n",
    "stemmer = PorterStemmer()\n",
    "def stem_words(text):\n",
    " return \" \".join([stemmer.stem(word) for word in text.split()])\n",
    "df[\"stemtext\"] = df[\"stopfretext\"].apply(lambda text: stem_words(text))\n",
    "df[\"stemtext\"].head()"
   ]
  },
  {
   "cell_type": "code",
   "execution_count": 41,
   "metadata": {},
   "outputs": [
    {
     "name": "stderr",
     "output_type": "stream",
     "text": [
      "[nltk_data] Downloading package wordnet to\n",
      "[nltk_data]     C:\\Users\\Asus\\AppData\\Roaming\\nltk_data...\n",
      "[nltk_data]   Unzipping corpora\\wordnet.zip.\n"
     ]
    }
   ],
   "source": [
    "from nltk.stem import WordNetLemmatizer\n",
    "nltk.download('wordnet')\n",
    "lemmatizer = WordNetLemmatizer()\n",
    "def lemmatize_words(text):\n",
    " return \" \".join([lemmatizer.lemmatize(word) for word in text.split()])"
   ]
  },
  {
   "cell_type": "code",
   "execution_count": 42,
   "metadata": {},
   "outputs": [
    {
     "data": {
      "text/html": [
       "<div>\n",
       "<style scoped>\n",
       "    .dataframe tbody tr th:only-of-type {\n",
       "        vertical-align: middle;\n",
       "    }\n",
       "\n",
       "    .dataframe tbody tr th {\n",
       "        vertical-align: top;\n",
       "    }\n",
       "\n",
       "    .dataframe thead th {\n",
       "        text-align: right;\n",
       "    }\n",
       "</style>\n",
       "<table border=\"1\" class=\"dataframe\">\n",
       "  <thead>\n",
       "    <tr style=\"text-align: right;\">\n",
       "      <th></th>\n",
       "      <th>software</th>\n",
       "      <th>lowertext</th>\n",
       "      <th>nopuntext</th>\n",
       "      <th>stopwtext</th>\n",
       "      <th>remove_freqwords</th>\n",
       "      <th>stemtext</th>\n",
       "      <th>stopftext</th>\n",
       "      <th>stopfretext</th>\n",
       "      <th>text_lemmatized</th>\n",
       "    </tr>\n",
       "  </thead>\n",
       "  <tbody>\n",
       "    <tr>\n",
       "      <th>0</th>\n",
       "      <td>Firefox</td>\n",
       "      <td>firefox</td>\n",
       "      <td>Firefox</td>\n",
       "      <td></td>\n",
       "      <td></td>\n",
       "      <td>firefox</td>\n",
       "      <td>Firefox</td>\n",
       "      <td>Firefox</td>\n",
       "      <td>firefox</td>\n",
       "    </tr>\n",
       "    <tr>\n",
       "      <th>1</th>\n",
       "      <td>Firefox</td>\n",
       "      <td>firefox</td>\n",
       "      <td>Firefox</td>\n",
       "      <td></td>\n",
       "      <td></td>\n",
       "      <td>firefox</td>\n",
       "      <td>Firefox</td>\n",
       "      <td>Firefox</td>\n",
       "      <td>firefox</td>\n",
       "    </tr>\n",
       "    <tr>\n",
       "      <th>2</th>\n",
       "      <td>Core</td>\n",
       "      <td>core</td>\n",
       "      <td>Core</td>\n",
       "      <td></td>\n",
       "      <td></td>\n",
       "      <td>core</td>\n",
       "      <td>Core</td>\n",
       "      <td>Core</td>\n",
       "      <td>core</td>\n",
       "    </tr>\n",
       "    <tr>\n",
       "      <th>3</th>\n",
       "      <td>Toolkit</td>\n",
       "      <td>toolkit</td>\n",
       "      <td>Toolkit</td>\n",
       "      <td></td>\n",
       "      <td></td>\n",
       "      <td>toolkit</td>\n",
       "      <td>Toolkit</td>\n",
       "      <td>Toolkit</td>\n",
       "      <td>toolkit</td>\n",
       "    </tr>\n",
       "    <tr>\n",
       "      <th>4</th>\n",
       "      <td>addons.mozilla.o</td>\n",
       "      <td>addons.mozilla.o</td>\n",
       "      <td>addonsmozillao</td>\n",
       "      <td></td>\n",
       "      <td></td>\n",
       "      <td>addonsmozillao</td>\n",
       "      <td>addonsmozillao</td>\n",
       "      <td>addonsmozillao</td>\n",
       "      <td>addonsmozillao</td>\n",
       "    </tr>\n",
       "  </tbody>\n",
       "</table>\n",
       "</div>"
      ],
      "text/plain": [
       "           software         lowertext       nopuntext stopwtext  \\\n",
       "0           Firefox           firefox         Firefox             \n",
       "1           Firefox           firefox         Firefox             \n",
       "2              Core              core            Core             \n",
       "3           Toolkit           toolkit         Toolkit             \n",
       "4  addons.mozilla.o  addons.mozilla.o  addonsmozillao             \n",
       "\n",
       "  remove_freqwords        stemtext       stopftext     stopfretext  \\\n",
       "0                          firefox         Firefox         Firefox   \n",
       "1                          firefox         Firefox         Firefox   \n",
       "2                             core            Core            Core   \n",
       "3                          toolkit         Toolkit         Toolkit   \n",
       "4                   addonsmozillao  addonsmozillao  addonsmozillao   \n",
       "\n",
       "  text_lemmatized  \n",
       "0         firefox  \n",
       "1         firefox  \n",
       "2            core  \n",
       "3         toolkit  \n",
       "4  addonsmozillao  "
      ]
     },
     "execution_count": 42,
     "metadata": {},
     "output_type": "execute_result"
    }
   ],
   "source": [
    "df[\"text_lemmatized\"] = df[\"stemtext\"].apply(lambda text: lemmatize_words(text))\n",
    "df.head()"
   ]
  },
  {
   "cell_type": "code",
   "execution_count": 43,
   "metadata": {},
   "outputs": [],
   "source": [
    "import re\n",
    "def remove_urls(text):\n",
    " url_pattern = re.compile(r'https?://\\S+|www\\.\\S+')\n",
    " return url_pattern.sub(r'', text)"
   ]
  },
  {
   "cell_type": "code",
   "execution_count": 44,
   "metadata": {},
   "outputs": [
    {
     "data": {
      "text/html": [
       "<div>\n",
       "<style scoped>\n",
       "    .dataframe tbody tr th:only-of-type {\n",
       "        vertical-align: middle;\n",
       "    }\n",
       "\n",
       "    .dataframe tbody tr th {\n",
       "        vertical-align: top;\n",
       "    }\n",
       "\n",
       "    .dataframe thead th {\n",
       "        text-align: right;\n",
       "    }\n",
       "</style>\n",
       "<table border=\"1\" class=\"dataframe\">\n",
       "  <thead>\n",
       "    <tr style=\"text-align: right;\">\n",
       "      <th></th>\n",
       "      <th>software</th>\n",
       "      <th>lowertext</th>\n",
       "      <th>nopuntext</th>\n",
       "      <th>stopwtext</th>\n",
       "      <th>remove_freqwords</th>\n",
       "      <th>stemtext</th>\n",
       "      <th>stopftext</th>\n",
       "      <th>stopfretext</th>\n",
       "      <th>text_lemmatized</th>\n",
       "      <th>remove_url</th>\n",
       "    </tr>\n",
       "  </thead>\n",
       "  <tbody>\n",
       "    <tr>\n",
       "      <th>0</th>\n",
       "      <td>Firefox</td>\n",
       "      <td>firefox</td>\n",
       "      <td>Firefox</td>\n",
       "      <td></td>\n",
       "      <td></td>\n",
       "      <td>firefox</td>\n",
       "      <td>Firefox</td>\n",
       "      <td>Firefox</td>\n",
       "      <td>firefox</td>\n",
       "      <td>firefox</td>\n",
       "    </tr>\n",
       "    <tr>\n",
       "      <th>1</th>\n",
       "      <td>Firefox</td>\n",
       "      <td>firefox</td>\n",
       "      <td>Firefox</td>\n",
       "      <td></td>\n",
       "      <td></td>\n",
       "      <td>firefox</td>\n",
       "      <td>Firefox</td>\n",
       "      <td>Firefox</td>\n",
       "      <td>firefox</td>\n",
       "      <td>firefox</td>\n",
       "    </tr>\n",
       "    <tr>\n",
       "      <th>2</th>\n",
       "      <td>Core</td>\n",
       "      <td>core</td>\n",
       "      <td>Core</td>\n",
       "      <td></td>\n",
       "      <td></td>\n",
       "      <td>core</td>\n",
       "      <td>Core</td>\n",
       "      <td>Core</td>\n",
       "      <td>core</td>\n",
       "      <td>core</td>\n",
       "    </tr>\n",
       "    <tr>\n",
       "      <th>3</th>\n",
       "      <td>Toolkit</td>\n",
       "      <td>toolkit</td>\n",
       "      <td>Toolkit</td>\n",
       "      <td></td>\n",
       "      <td></td>\n",
       "      <td>toolkit</td>\n",
       "      <td>Toolkit</td>\n",
       "      <td>Toolkit</td>\n",
       "      <td>toolkit</td>\n",
       "      <td>toolkit</td>\n",
       "    </tr>\n",
       "    <tr>\n",
       "      <th>4</th>\n",
       "      <td>addons.mozilla.o</td>\n",
       "      <td>addons.mozilla.o</td>\n",
       "      <td>addonsmozillao</td>\n",
       "      <td></td>\n",
       "      <td></td>\n",
       "      <td>addonsmozillao</td>\n",
       "      <td>addonsmozillao</td>\n",
       "      <td>addonsmozillao</td>\n",
       "      <td>addonsmozillao</td>\n",
       "      <td>addonsmozillao</td>\n",
       "    </tr>\n",
       "  </tbody>\n",
       "</table>\n",
       "</div>"
      ],
      "text/plain": [
       "           software         lowertext       nopuntext stopwtext  \\\n",
       "0           Firefox           firefox         Firefox             \n",
       "1           Firefox           firefox         Firefox             \n",
       "2              Core              core            Core             \n",
       "3           Toolkit           toolkit         Toolkit             \n",
       "4  addons.mozilla.o  addons.mozilla.o  addonsmozillao             \n",
       "\n",
       "  remove_freqwords        stemtext       stopftext     stopfretext  \\\n",
       "0                          firefox         Firefox         Firefox   \n",
       "1                          firefox         Firefox         Firefox   \n",
       "2                             core            Core            Core   \n",
       "3                          toolkit         Toolkit         Toolkit   \n",
       "4                   addonsmozillao  addonsmozillao  addonsmozillao   \n",
       "\n",
       "  text_lemmatized      remove_url  \n",
       "0         firefox         firefox  \n",
       "1         firefox         firefox  \n",
       "2            core            core  \n",
       "3         toolkit         toolkit  \n",
       "4  addonsmozillao  addonsmozillao  "
      ]
     },
     "execution_count": 44,
     "metadata": {},
     "output_type": "execute_result"
    }
   ],
   "source": [
    "df[\"remove_url\"] = df[\"stemtext\"].apply(lambda text: remove_urls(text))\n",
    "df.head()"
   ]
  },
  {
   "cell_type": "code",
   "execution_count": 48,
   "metadata": {},
   "outputs": [],
   "source": [
    "def remove_html(text):\n",
    " html_pattern = re.compile('<.*?>')\n",
    " return html_pattern.sub(r'', text)"
   ]
  },
  {
   "cell_type": "code",
   "execution_count": 49,
   "metadata": {},
   "outputs": [
    {
     "data": {
      "text/html": [
       "<div>\n",
       "<style scoped>\n",
       "    .dataframe tbody tr th:only-of-type {\n",
       "        vertical-align: middle;\n",
       "    }\n",
       "\n",
       "    .dataframe tbody tr th {\n",
       "        vertical-align: top;\n",
       "    }\n",
       "\n",
       "    .dataframe thead th {\n",
       "        text-align: right;\n",
       "    }\n",
       "</style>\n",
       "<table border=\"1\" class=\"dataframe\">\n",
       "  <thead>\n",
       "    <tr style=\"text-align: right;\">\n",
       "      <th></th>\n",
       "      <th>software</th>\n",
       "      <th>lowertext</th>\n",
       "      <th>nopuntext</th>\n",
       "      <th>stopwtext</th>\n",
       "      <th>remove_freqwords</th>\n",
       "      <th>stemtext</th>\n",
       "      <th>stopftext</th>\n",
       "      <th>stopfretext</th>\n",
       "      <th>text_lemmatized</th>\n",
       "      <th>remove_url</th>\n",
       "      <th>remove_html</th>\n",
       "    </tr>\n",
       "  </thead>\n",
       "  <tbody>\n",
       "    <tr>\n",
       "      <th>0</th>\n",
       "      <td>Firefox</td>\n",
       "      <td>firefox</td>\n",
       "      <td>Firefox</td>\n",
       "      <td></td>\n",
       "      <td></td>\n",
       "      <td>firefox</td>\n",
       "      <td>Firefox</td>\n",
       "      <td>Firefox</td>\n",
       "      <td>firefox</td>\n",
       "      <td>firefox</td>\n",
       "      <td>firefox</td>\n",
       "    </tr>\n",
       "    <tr>\n",
       "      <th>1</th>\n",
       "      <td>Firefox</td>\n",
       "      <td>firefox</td>\n",
       "      <td>Firefox</td>\n",
       "      <td></td>\n",
       "      <td></td>\n",
       "      <td>firefox</td>\n",
       "      <td>Firefox</td>\n",
       "      <td>Firefox</td>\n",
       "      <td>firefox</td>\n",
       "      <td>firefox</td>\n",
       "      <td>firefox</td>\n",
       "    </tr>\n",
       "    <tr>\n",
       "      <th>2</th>\n",
       "      <td>Core</td>\n",
       "      <td>core</td>\n",
       "      <td>Core</td>\n",
       "      <td></td>\n",
       "      <td></td>\n",
       "      <td>core</td>\n",
       "      <td>Core</td>\n",
       "      <td>Core</td>\n",
       "      <td>core</td>\n",
       "      <td>core</td>\n",
       "      <td>core</td>\n",
       "    </tr>\n",
       "    <tr>\n",
       "      <th>3</th>\n",
       "      <td>Toolkit</td>\n",
       "      <td>toolkit</td>\n",
       "      <td>Toolkit</td>\n",
       "      <td></td>\n",
       "      <td></td>\n",
       "      <td>toolkit</td>\n",
       "      <td>Toolkit</td>\n",
       "      <td>Toolkit</td>\n",
       "      <td>toolkit</td>\n",
       "      <td>toolkit</td>\n",
       "      <td>toolkit</td>\n",
       "    </tr>\n",
       "    <tr>\n",
       "      <th>4</th>\n",
       "      <td>addons.mozilla.o</td>\n",
       "      <td>addons.mozilla.o</td>\n",
       "      <td>addonsmozillao</td>\n",
       "      <td></td>\n",
       "      <td></td>\n",
       "      <td>addonsmozillao</td>\n",
       "      <td>addonsmozillao</td>\n",
       "      <td>addonsmozillao</td>\n",
       "      <td>addonsmozillao</td>\n",
       "      <td>addonsmozillao</td>\n",
       "      <td>addonsmozillao</td>\n",
       "    </tr>\n",
       "  </tbody>\n",
       "</table>\n",
       "</div>"
      ],
      "text/plain": [
       "           software         lowertext       nopuntext stopwtext  \\\n",
       "0           Firefox           firefox         Firefox             \n",
       "1           Firefox           firefox         Firefox             \n",
       "2              Core              core            Core             \n",
       "3           Toolkit           toolkit         Toolkit             \n",
       "4  addons.mozilla.o  addons.mozilla.o  addonsmozillao             \n",
       "\n",
       "  remove_freqwords        stemtext       stopftext     stopfretext  \\\n",
       "0                          firefox         Firefox         Firefox   \n",
       "1                          firefox         Firefox         Firefox   \n",
       "2                             core            Core            Core   \n",
       "3                          toolkit         Toolkit         Toolkit   \n",
       "4                   addonsmozillao  addonsmozillao  addonsmozillao   \n",
       "\n",
       "  text_lemmatized      remove_url     remove_html  \n",
       "0         firefox         firefox         firefox  \n",
       "1         firefox         firefox         firefox  \n",
       "2            core            core            core  \n",
       "3         toolkit         toolkit         toolkit  \n",
       "4  addonsmozillao  addonsmozillao  addonsmozillao  "
      ]
     },
     "execution_count": 49,
     "metadata": {},
     "output_type": "execute_result"
    }
   ],
   "source": [
    "df[\"remove_html\"] = df[\"stemtext\"].apply(lambda text: remove_html(text))\n",
    "df.head()"
   ]
  },
  {
   "cell_type": "code",
   "execution_count": 50,
   "metadata": {},
   "outputs": [
    {
     "data": {
      "text/plain": [
       "'spelling mihi haha'"
      ]
     },
     "execution_count": 50,
     "metadata": {},
     "output_type": "execute_result"
    }
   ],
   "source": [
    "from spellchecker import SpellChecker\n",
    "spell = SpellChecker()\n",
    "def correct_spellings(text):\n",
    "    corrected_text = []\n",
    "    misspelled_words = spell.unknown(text.split())\n",
    "    for word in text.split():\n",
    "        if word in misspelled_words:\n",
    "           corrected_text.append(spell.correction(word))\n",
    "        else:\n",
    "           corrected_text.append(word)\n",
    "    return \" \".join(corrected_text)\n",
    "\n",
    "text = \"speling hihi haha\"\n",
    "correct_spellings(text)"
   ]
  }
 ],
 "metadata": {
  "interpreter": {
   "hash": "e1065e16cb979fc236d435c38245936c1564a2f9907d9c3a1b5acf54dd047cb8"
  },
  "kernelspec": {
   "display_name": "Python 3.9.7 64-bit (windows store)",
   "name": "python3"
  },
  "language_info": {
   "codemirror_mode": {
    "name": "ipython",
    "version": 3
   },
   "file_extension": ".py",
   "mimetype": "text/x-python",
   "name": "python",
   "nbconvert_exporter": "python",
   "pygments_lexer": "ipython3",
   "version": "3.9.9"
  },
  "orig_nbformat": 4
 },
 "nbformat": 4,
 "nbformat_minor": 2
}
